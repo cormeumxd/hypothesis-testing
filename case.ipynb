{
 "cells": [
  {
   "cell_type": "code",
   "execution_count": 1,
   "id": "8a559a97-d6f0-466c-ad37-1dc56c8070c6",
   "metadata": {},
   "outputs": [],
   "source": [
    "import pandas as pd\n",
    "import numpy as np\n",
    "import matplotlib.pyplot as plt\n",
    "import seaborn as sns\n",
    "import scipy.stats\n",
    "from scipy.stats import boxcox\n",
    "from scipy.stats import shapiro\n",
    "from scipy.stats import levene\n",
    "from scipy.stats import ttest_ind\n",
    "from scipy.stats import chi2_contingency\n",
    "\n",
    "import warnings\n",
    "warnings.filterwarnings(\"ignore\")"
   ]
  },
  {
   "cell_type": "markdown",
   "id": "55b9faf3-2063-4763-b468-d096e0d26dc1",
   "metadata": {},
   "source": [
    "Загрузим данные:"
   ]
  },
  {
   "cell_type": "code",
   "execution_count": 2,
   "id": "ca86f9aa-639d-472c-a7d0-ff34444025db",
   "metadata": {},
   "outputs": [],
   "source": [
    "data = pd.read_csv('data.csv', quotechar=\"'\", encoding = \"windows-1251\")"
   ]
  },
  {
   "cell_type": "code",
   "execution_count": 3,
   "id": "59ea8b7a-0bf0-49aa-8419-a898584d4c6c",
   "metadata": {},
   "outputs": [
    {
     "data": {
      "text/html": [
       "<div>\n",
       "<style scoped>\n",
       "    .dataframe tbody tr th:only-of-type {\n",
       "        vertical-align: middle;\n",
       "    }\n",
       "\n",
       "    .dataframe tbody tr th {\n",
       "        vertical-align: top;\n",
       "    }\n",
       "\n",
       "    .dataframe thead th {\n",
       "        text-align: right;\n",
       "    }\n",
       "</style>\n",
       "<table border=\"1\" class=\"dataframe\">\n",
       "  <thead>\n",
       "    <tr style=\"text-align: right;\">\n",
       "      <th></th>\n",
       "      <th>\"Количество больничных дней</th>\n",
       "      <th>\"\"Возраст\"\"</th>\n",
       "      <th>\"\"Пол\"\"\"</th>\n",
       "    </tr>\n",
       "  </thead>\n",
       "  <tbody>\n",
       "    <tr>\n",
       "      <th>0</th>\n",
       "      <td>\"5</td>\n",
       "      <td>39</td>\n",
       "      <td>\"\"Ж\"\"\"</td>\n",
       "    </tr>\n",
       "    <tr>\n",
       "      <th>1</th>\n",
       "      <td>\"4</td>\n",
       "      <td>54</td>\n",
       "      <td>\"\"М\"\"\"</td>\n",
       "    </tr>\n",
       "    <tr>\n",
       "      <th>2</th>\n",
       "      <td>\"4</td>\n",
       "      <td>26</td>\n",
       "      <td>\"\"М\"\"\"</td>\n",
       "    </tr>\n",
       "    <tr>\n",
       "      <th>3</th>\n",
       "      <td>\"5</td>\n",
       "      <td>42</td>\n",
       "      <td>\"\"М\"\"\"</td>\n",
       "    </tr>\n",
       "    <tr>\n",
       "      <th>4</th>\n",
       "      <td>\"4</td>\n",
       "      <td>29</td>\n",
       "      <td>\"\"М\"\"\"</td>\n",
       "    </tr>\n",
       "  </tbody>\n",
       "</table>\n",
       "</div>"
      ],
      "text/plain": [
       "  \"Количество больничных дней  \"\"Возраст\"\" \"\"Пол\"\"\"\n",
       "0                          \"5           39   \"\"Ж\"\"\"\n",
       "1                          \"4           54   \"\"М\"\"\"\n",
       "2                          \"4           26   \"\"М\"\"\"\n",
       "3                          \"5           42   \"\"М\"\"\"\n",
       "4                          \"4           29   \"\"М\"\"\""
      ]
     },
     "execution_count": 3,
     "metadata": {},
     "output_type": "execute_result"
    }
   ],
   "source": [
    "data.head()"
   ]
  },
  {
   "cell_type": "code",
   "execution_count": 4,
   "id": "cf46fd28-a2e0-4880-b974-1237ee60997d",
   "metadata": {},
   "outputs": [],
   "source": [
    "columns_rename = {'\"Количество больничных дней': 'work_days', '\"\"Возраст\"\"': 'age', '\"\"Пол\"\"\"': 'gender'}"
   ]
  },
  {
   "cell_type": "code",
   "execution_count": 5,
   "id": "9a78083f-13bb-4789-bbeb-fd67f54ff6ad",
   "metadata": {},
   "outputs": [],
   "source": [
    "data = (\n",
    "    data.rename(columns=columns_rename)\n",
    "        .assign(work_days=lambda x: x['work_days'].str.replace('\"', '').astype(int),\n",
    "                gender=lambda x: x['gender'].str.replace('\"', ''))\n",
    ")"
   ]
  },
  {
   "cell_type": "markdown",
   "id": "101942e6-1898-4929-8994-a3595d4d21fe",
   "metadata": {},
   "source": [
    "При проверке гипотез будем брать уровень значимости равным 0.05"
   ]
  },
  {
   "cell_type": "markdown",
   "id": "4d6979ad-dd3e-4980-990d-0318417004b5",
   "metadata": {},
   "source": [
    "## Проверим наличие зависимостей"
   ]
  },
  {
   "cell_type": "markdown",
   "id": "deb21595-93d2-4699-bcdd-0c093e3cee3d",
   "metadata": {},
   "source": [
    "Прежде всего хочется проверить, есть ли связь между кол-вом пропусков по больничному и пола/возраста. Для этого создадим таблицу\n",
    "частот пропусков от пола/возраста. Сформулируем гипотезу $H_0$ - кол-во пропусков не зависит от пола.\n",
    "Проверим гипотезу критерием согласия Пирсона"
   ]
  },
  {
   "cell_type": "markdown",
   "id": "8c73b4a2-0277-4a66-b855-9c6f234d6657",
   "metadata": {},
   "source": [
    "### Зависимость пропусков от пола"
   ]
  },
  {
   "cell_type": "code",
   "execution_count": 6,
   "id": "dc72a2fe-935a-4d0d-a882-9b4c56e5e8ce",
   "metadata": {},
   "outputs": [
    {
     "data": {
      "text/html": [
       "<div>\n",
       "<style scoped>\n",
       "    .dataframe tbody tr th:only-of-type {\n",
       "        vertical-align: middle;\n",
       "    }\n",
       "\n",
       "    .dataframe tbody tr th {\n",
       "        vertical-align: top;\n",
       "    }\n",
       "\n",
       "    .dataframe thead th {\n",
       "        text-align: right;\n",
       "    }\n",
       "</style>\n",
       "<table border=\"1\" class=\"dataframe\">\n",
       "  <thead>\n",
       "    <tr style=\"text-align: right;\">\n",
       "      <th>work_days</th>\n",
       "      <th>False</th>\n",
       "      <th>True</th>\n",
       "    </tr>\n",
       "    <tr>\n",
       "      <th>gender</th>\n",
       "      <th></th>\n",
       "      <th></th>\n",
       "    </tr>\n",
       "  </thead>\n",
       "  <tbody>\n",
       "    <tr>\n",
       "      <th>Ж</th>\n",
       "      <td>31</td>\n",
       "      <td>67</td>\n",
       "    </tr>\n",
       "    <tr>\n",
       "      <th>М</th>\n",
       "      <td>55</td>\n",
       "      <td>84</td>\n",
       "    </tr>\n",
       "  </tbody>\n",
       "</table>\n",
       "</div>"
      ],
      "text/plain": [
       "work_days  False  True \n",
       "gender                 \n",
       "Ж             31     67\n",
       "М             55     84"
      ]
     },
     "execution_count": 6,
     "metadata": {},
     "output_type": "execute_result"
    }
   ],
   "source": [
    "gender_days = pd.crosstab(data.gender, data.work_days > 2)\n",
    "gender_days"
   ]
  },
  {
   "cell_type": "markdown",
   "id": "58bd8aeb-047c-45bd-8ae9-1946067bb3ae",
   "metadata": {},
   "source": [
    "Критерий Пирсона:"
   ]
  },
  {
   "cell_type": "code",
   "execution_count": 7,
   "id": "70aed172-d607-40d7-82e6-7218b46e985a",
   "metadata": {},
   "outputs": [
    {
     "name": "stdout",
     "output_type": "stream",
     "text": [
      "pvalue: 0.26524443198654923\n"
     ]
    }
   ],
   "source": [
    "stats, pvalue, _, _ = chi2_contingency(gender_days)\n",
    "print(f'pvalue: {pvalue}')"
   ]
  },
  {
   "cell_type": "markdown",
   "id": "d2a880ff-3f01-4c93-ae69-804795b35592",
   "metadata": {},
   "source": [
    "Значение pvalue получилось больше уровня значимости, значит мы не можем отклонить гипотезу $H_0$. Получается, что\n",
    "частота пропусков не зависит от пола"
   ]
  },
  {
   "cell_type": "markdown",
   "id": "694e86d5-e585-44be-9f69-8a81eca7e053",
   "metadata": {},
   "source": [
    "### Зависимость пропусков от возраста"
   ]
  },
  {
   "cell_type": "markdown",
   "id": "f71cccf7-7398-4f14-871a-c03a41c51172",
   "metadata": {},
   "source": [
    "Всё аналогично предыдущей гипотезе. $H_0$ - кол-во пропусков не зависит от возраста (больше или меньше 35)"
   ]
  },
  {
   "cell_type": "code",
   "execution_count": 8,
   "id": "f265b3cf-e86b-48a5-a298-cd99489c8695",
   "metadata": {},
   "outputs": [],
   "source": [
    "# Добавим столбец\n",
    "data['>35'] = data.age > 35"
   ]
  },
  {
   "cell_type": "code",
   "execution_count": 9,
   "id": "f0dfb4e0-fd6d-4270-bf4d-64987418c8bf",
   "metadata": {},
   "outputs": [
    {
     "data": {
      "text/html": [
       "<div>\n",
       "<style scoped>\n",
       "    .dataframe tbody tr th:only-of-type {\n",
       "        vertical-align: middle;\n",
       "    }\n",
       "\n",
       "    .dataframe tbody tr th {\n",
       "        vertical-align: top;\n",
       "    }\n",
       "\n",
       "    .dataframe thead th {\n",
       "        text-align: right;\n",
       "    }\n",
       "</style>\n",
       "<table border=\"1\" class=\"dataframe\">\n",
       "  <thead>\n",
       "    <tr style=\"text-align: right;\">\n",
       "      <th>work_days</th>\n",
       "      <th>False</th>\n",
       "      <th>True</th>\n",
       "    </tr>\n",
       "    <tr>\n",
       "      <th>&gt;35</th>\n",
       "      <th></th>\n",
       "      <th></th>\n",
       "    </tr>\n",
       "  </thead>\n",
       "  <tbody>\n",
       "    <tr>\n",
       "      <th>False</th>\n",
       "      <td>21</td>\n",
       "      <td>36</td>\n",
       "    </tr>\n",
       "    <tr>\n",
       "      <th>True</th>\n",
       "      <td>65</td>\n",
       "      <td>115</td>\n",
       "    </tr>\n",
       "  </tbody>\n",
       "</table>\n",
       "</div>"
      ],
      "text/plain": [
       "work_days  False  True \n",
       ">35                    \n",
       "False         21     36\n",
       "True          65    115"
      ]
     },
     "execution_count": 9,
     "metadata": {},
     "output_type": "execute_result"
    }
   ],
   "source": [
    "age_days = pd.crosstab(data['>35'], data.work_days > 2)\n",
    "age_days"
   ]
  },
  {
   "cell_type": "code",
   "execution_count": 10,
   "id": "e1575f20-10ca-43a5-9fe1-46dfe081a0c6",
   "metadata": {},
   "outputs": [
    {
     "name": "stdout",
     "output_type": "stream",
     "text": [
      "pvalue: 1.0\n"
     ]
    }
   ],
   "source": [
    "stats, pvalue, _, _ = chi2_contingency(age_days)\n",
    "print(f'pvalue: {pvalue}')"
   ]
  },
  {
   "cell_type": "markdown",
   "id": "5b363457-1b06-421c-baa4-bd8c2c20df80",
   "metadata": {},
   "source": [
    "Значение pvalue получилось больше уровня значимости, значит мы не можем отклонить гипотезу $H_0$. Получается, что\n",
    "частота пропусков не зависит от возраста (больше или меньше 35)."
   ]
  },
  {
   "cell_type": "markdown",
   "id": "f1fbed86-77a2-4f3f-aa8c-0a99714ea672",
   "metadata": {},
   "source": [
    "Мы проверили частоту пропусков просто сравнивая кол-во пропусков по конкретной группе (возраст или пол), не обращая внимания на\n",
    "само кол-во пропусков(просто считали, если больше двух или меньше).\\\n",
    "Однако если присутствует зависимость в среднем кол-ве пропусков в этих группах (тоже в каком-то смысле частота), метод описанный выше не сработает \\\n",
    "Но само знание этого факта окажется полезным. Сформулируем следущие гипотезы:\n",
    "1) Мужчины пропускают больше дней по больничному (чаще) чем женщины\n",
    "2) Сотрудники старше 35 пропускают больше дней по больничному (чаще) чем младше"
   ]
  },
  {
   "cell_type": "markdown",
   "id": "4050a26d-4713-4a88-8d25-93625ce0f1cb",
   "metadata": {},
   "source": [
    "## Проверим гипотезу о том, что мужчины пропускают работу по больничному чаще"
   ]
  },
  {
   "cell_type": "markdown",
   "id": "80df7894-be20-4b47-976f-e89dbaa2723f",
   "metadata": {},
   "source": [
    "Для этого сформулируем гипотезу $H_0$ - мужчины пропускают по больничному столько же сколько и женщины"
   ]
  },
  {
   "cell_type": "markdown",
   "id": "818a13d1-7334-4063-b02b-5f9df0688199",
   "metadata": {},
   "source": [
    "Построим графики распределнения для наглядности. Сначала отберем тех, у кого пропусков больше двух дней"
   ]
  },
  {
   "cell_type": "code",
   "execution_count": 11,
   "id": "933fec53-530c-45b5-b564-a3824dd21b3c",
   "metadata": {},
   "outputs": [],
   "source": [
    "data_filtered = data[data['work_days'] > 2]\n",
    "work_days_m = data_filtered[data_filtered['gender']=='М']['work_days']\n",
    "work_days_f = data_filtered[data_filtered['gender']=='Ж']['work_days']"
   ]
  },
  {
   "cell_type": "code",
   "execution_count": 12,
   "id": "c8071e06-13ac-4221-a714-b621b1ca7392",
   "metadata": {},
   "outputs": [
    {
     "data": {
      "image/png": "[encoded data removed]",
      "text/plain": [
       "<Figure size 1000x600 with 1 Axes>"
      ]
     },
     "metadata": {},
     "output_type": "display_data"
    }
   ],
   "source": [
    "sns.set(style=\"whitegrid\")\n",
    "\n",
    "plt.figure(figsize=(10, 6))\n",
    "ax = sns.boxplot(x='gender', y='work_days', data=data_filtered, palette='husl')\n",
    "\n",
    "male_mean = work_days_m.mean()\n",
    "female_mean = work_days_f.mean()\n",
    "\n",
    "ax.text(1, male_mean, f'Среднее: {male_mean:.2f}', ha='right', va='center', color='blue', weight='bold')\n",
    "ax.text(0, female_mean, f'Среднее: {female_mean:.2f}', ha='left', va='center', color='purple', weight='bold')\n",
    "plt.title('Distribution of Sick Leave Days by Gender')\n",
    "plt.xlabel('Пол')\n",
    "plt.ylabel('Кол-во больничных')\n",
    "plt.show()"
   ]
  },
  {
   "cell_type": "markdown",
   "id": "ffcdd422-37f5-43e1-b8ff-fd6553a9c222",
   "metadata": {},
   "source": [
    "Из графика не следует статистическая значимость, однако видно, что среднее кол-во больничных дней у мужчин больше. Так же заметим, что\n",
    "в данных нет выбросов. Можно проверить гипотезу, используя t-Критерий Стьюдента. Проверим следующие условия:\n",
    "1) Нормальность распределения средних в выборке\n",
    "2) Равны ли дисперсии"
   ]
  },
  {
   "cell_type": "markdown",
   "id": "6bc89631-9245-43db-9676-887aa18e0fee",
   "metadata": {},
   "source": [
    "### Нормальность распределения средних в выборке"
   ]
  },
  {
   "cell_type": "markdown",
   "id": "41010055-36ac-42f1-abd0-3c9ed384417a",
   "metadata": {},
   "source": [
    "Для проверки нормальности средних, посчитаем среднее для 200 рандомных выборок по 20 значений"
   ]
  },
  {
   "cell_type": "code",
   "execution_count": 13,
   "id": "11675d6f-12fe-4f17-b6f7-a30260da8201",
   "metadata": {},
   "outputs": [],
   "source": [
    "np.random.seed(112)\n",
    "means = [work_days_m.sample(30).mean() for _ in range(200)]"
   ]
  },
  {
   "cell_type": "code",
   "execution_count": 14,
   "id": "48795856-e41e-4d79-a3cf-20293ef86416",
   "metadata": {},
   "outputs": [
    {
     "data": {
      "text/plain": [
       "(array([ 3.,  4., 18., 23., 36., 34., 45., 17., 17.,  3.]),\n",
       " array([3.73333333, 3.85      , 3.96666667, 4.08333333, 4.2       ,\n",
       "        4.31666667, 4.43333333, 4.55      , 4.66666667, 4.78333333,\n",
       "        4.9       ]),\n",
       " <BarContainer object of 10 artists>)"
      ]
     },
     "execution_count": 14,
     "metadata": {},
     "output_type": "execute_result"
    },
    {
     "data": {
      "image/png": "[encoded data removed]",
      "text/plain": [
       "<Figure size 640x480 with 1 Axes>"
      ]
     },
     "metadata": {},
     "output_type": "display_data"
    }
   ],
   "source": [
    "plt.hist(means)"
   ]
  },
  {
   "cell_type": "markdown",
   "id": "46ef11b0-c097-4e04-bc09-700ddf39f877",
   "metadata": {},
   "source": [
    "Воспользуемя тестом Шапиро-Уилка и проверим среднии на нормальность"
   ]
  },
  {
   "cell_type": "code",
   "execution_count": 15,
   "id": "1b5cf058-4597-48cf-9cc8-68c478308edd",
   "metadata": {},
   "outputs": [
    {
     "data": {
      "text/plain": [
       "ShapiroResult(statistic=0.9911407232284546, pvalue=0.26053181290626526)"
      ]
     },
     "execution_count": 15,
     "metadata": {},
     "output_type": "execute_result"
    }
   ],
   "source": [
    "shapiro(means)"
   ]
  },
  {
   "cell_type": "markdown",
   "id": "c7f8eef2-b860-49db-9b65-6a3c275c2628",
   "metadata": {},
   "source": [
    "pvalue получилось больше 0.05, значит мы не можем отклонить гипотезу о нормальности. Аналогично для женщин:"
   ]
  },
  {
   "cell_type": "code",
   "execution_count": 16,
   "id": "92fe466f-a82e-4af2-b60e-99dbc4e61c7b",
   "metadata": {},
   "outputs": [],
   "source": [
    "np.random.seed(112)\n",
    "means = [work_days_f.sample(30).mean() for _ in range(200)]"
   ]
  },
  {
   "cell_type": "code",
   "execution_count": 17,
   "id": "34d11052-3f31-40c7-83a0-dcb2c75eda40",
   "metadata": {},
   "outputs": [
    {
     "data": {
      "text/plain": [
       "(array([ 3.,  5., 13., 19., 49., 41., 29., 26., 10.,  5.]),\n",
       " array([3.76666667, 3.85666667, 3.94666667, 4.03666667, 4.12666667,\n",
       "        4.21666667, 4.30666667, 4.39666667, 4.48666667, 4.57666667,\n",
       "        4.66666667]),\n",
       " <BarContainer object of 10 artists>)"
      ]
     },
     "execution_count": 17,
     "metadata": {},
     "output_type": "execute_result"
    },
    {
     "data": {
      "image/png": "[encoded data removed]",
      "text/plain": [
       "<Figure size 640x480 with 1 Axes>"
      ]
     },
     "metadata": {},
     "output_type": "display_data"
    }
   ],
   "source": [
    "plt.hist(means)"
   ]
  },
  {
   "cell_type": "code",
   "execution_count": 18,
   "id": "90bb3f26-3a16-4241-882e-ac7351ca60f6",
   "metadata": {},
   "outputs": [
    {
     "data": {
      "text/plain": [
       "ShapiroResult(statistic=0.9923462271690369, pvalue=0.3801189959049225)"
      ]
     },
     "execution_count": 18,
     "metadata": {},
     "output_type": "execute_result"
    }
   ],
   "source": [
    "shapiro(means)"
   ]
  },
  {
   "cell_type": "markdown",
   "id": "375cb5dc-8655-4aef-b85c-ca3d91f16119",
   "metadata": {},
   "source": [
    "### Равенство дисперсий"
   ]
  },
  {
   "cell_type": "markdown",
   "id": "43a61899-e934-4668-bfb4-7aefb8a609cb",
   "metadata": {},
   "source": [
    "Для проверки будем использовать критерий Левене"
   ]
  },
  {
   "cell_type": "code",
   "execution_count": 19,
   "id": "c5d4e2dc-5fcf-43db-8949-4bae662824dd",
   "metadata": {},
   "outputs": [
    {
     "data": {
      "text/plain": [
       "LeveneResult(statistic=0.8103200070081782, pvalue=0.36947824611611746)"
      ]
     },
     "execution_count": 19,
     "metadata": {},
     "output_type": "execute_result"
    }
   ],
   "source": [
    "levene(work_days_m, work_days_f)"
   ]
  },
  {
   "cell_type": "markdown",
   "id": "179cb4ac-2505-42ca-b712-6fb0852b066e",
   "metadata": {},
   "source": [
    "pvalue большой - принимаем гипотезу о равенстве дисперсий. Отразим равенство дисперсий в t-критерии"
   ]
  },
  {
   "cell_type": "code",
   "execution_count": 20,
   "id": "eaef99e1-9807-4d4e-9301-9ec9f4f91d98",
   "metadata": {},
   "outputs": [
    {
     "data": {
      "text/plain": [
       "TtestResult(statistic=0.42305776080458846, pvalue=0.6728666566797525, df=148.13300247041687)"
      ]
     },
     "execution_count": 20,
     "metadata": {},
     "output_type": "execute_result"
    }
   ],
   "source": [
    "ttest_ind(work_days_m, work_days_f, equal_var=False)"
   ]
  },
  {
   "cell_type": "markdown",
   "id": "21ebb9a0-ab79-473f-b074-25d6c70e219b",
   "metadata": {},
   "source": [
    "pvalue получился больше уровня значимости, значит мы не можем отклонить нулевую гипотезу. Следовательно\n",
    "нельзя сказать, что мужчины пропускают больше дней по больничному (чаще) чем женщины"
   ]
  },
  {
   "cell_type": "markdown",
   "id": "3f3e51a3-246c-4141-930c-14c849f376b8",
   "metadata": {},
   "source": [
    "## Проверим гипотезу о возрасте"
   ]
  },
  {
   "cell_type": "markdown",
   "id": "2f1d6edb-cea0-4708-abd7-09581cb14526",
   "metadata": {},
   "source": [
    "Для этого сформулируем гипотезу $H_0$ - старше 35 и младше пропускают по больничному одинаково"
   ]
  },
  {
   "cell_type": "code",
   "execution_count": 21,
   "id": "0516d310-bd4a-4e16-96a5-edd2de21ce07",
   "metadata": {},
   "outputs": [],
   "source": [
    "work_days_greater_35 = data_filtered[data_filtered['age']>35]['work_days']\n",
    "work_days_less_35 = data_filtered[data_filtered['age']<=35]['work_days']\n",
    "\n",
    "data_filtered.loc[:, '>35'] = data_filtered.age > 35"
   ]
  },
  {
   "cell_type": "code",
   "execution_count": 22,
   "id": "8978cd7f-1ca9-42f9-a459-1f1f50993194",
   "metadata": {},
   "outputs": [
    {
     "data": {
      "image/png": "[encoded data removed]",
      "text/plain": [
       "<Figure size 1000x600 with 1 Axes>"
      ]
     },
     "metadata": {},
     "output_type": "display_data"
    }
   ],
   "source": [
    "sns.set(style=\"whitegrid\")\n",
    "\n",
    "plt.figure(figsize=(10, 6))\n",
    "ax = sns.boxplot(x='>35', y='work_days', data=data_filtered, palette='husl')\n",
    "\n",
    "greater_35_mean = work_days_greater_35.mean()\n",
    "less_35_mean = work_days_less_35.mean()\n",
    "\n",
    "ax.text(1, greater_35_mean, f'Среднее: {greater_35_mean:.2f}', ha='right', va='center', color='blue', weight='bold')\n",
    "ax.text(0, less_35_mean, f'Среднее: {less_35_mean:.2f}', ha='left', va='center', color='purple', weight='bold')\n",
    "plt.xlabel('возраст > 35')\n",
    "plt.ylabel('Кол-во больничных')\n",
    "plt.show()"
   ]
  },
  {
   "cell_type": "markdown",
   "id": "3d0ab8e0-a9a3-42e6-805a-ab14d3602722",
   "metadata": {},
   "source": [
    "Аналогично проверим нормальность средних и равенство дисперсий для применения t-критерия:"
   ]
  },
  {
   "cell_type": "markdown",
   "id": "1774e397-405a-4dc7-b5ae-6b0a90da1f7d",
   "metadata": {},
   "source": [
    "### Нормальность распределения средних в выборке"
   ]
  },
  {
   "cell_type": "code",
   "execution_count": 23,
   "id": "a2d061d9-4fb2-4cde-a9c5-c115baff2188",
   "metadata": {},
   "outputs": [],
   "source": [
    "np.random.seed(112)\n",
    "means = [work_days_greater_35.sample(30).mean() for _ in range(200)]"
   ]
  },
  {
   "cell_type": "code",
   "execution_count": 24,
   "id": "ad9a8563-f958-4cf7-b2e2-c7b5a2b6cba0",
   "metadata": {},
   "outputs": [
    {
     "data": {
      "text/plain": [
       "(array([ 5.,  5., 13., 47., 38., 37., 30., 17.,  4.,  4.]),\n",
       " array([3.7 , 3.81, 3.92, 4.03, 4.14, 4.25, 4.36, 4.47, 4.58, 4.69, 4.8 ]),\n",
       " <BarContainer object of 10 artists>)"
      ]
     },
     "execution_count": 24,
     "metadata": {},
     "output_type": "execute_result"
    },
    {
     "data": {
      "image/png": "[encoded data removed]",
      "text/plain": [
       "<Figure size 640x480 with 1 Axes>"
      ]
     },
     "metadata": {},
     "output_type": "display_data"
    }
   ],
   "source": [
    "plt.hist(means)"
   ]
  },
  {
   "cell_type": "code",
   "execution_count": 25,
   "id": "acc90fbc-b0ec-4432-a5e2-5aac8d50d040",
   "metadata": {},
   "outputs": [
    {
     "data": {
      "text/plain": [
       "ShapiroResult(statistic=0.9939770102500916, pvalue=0.5972183346748352)"
      ]
     },
     "execution_count": 25,
     "metadata": {},
     "output_type": "execute_result"
    }
   ],
   "source": [
    "shapiro(means)"
   ]
  },
  {
   "cell_type": "code",
   "execution_count": 26,
   "id": "e629b51d-11cb-4f70-9e88-4705e16b18fa",
   "metadata": {},
   "outputs": [],
   "source": [
    "np.random.seed(112)\n",
    "means = [work_days_less_35.sample(20).mean() for _ in range(200)]"
   ]
  },
  {
   "cell_type": "code",
   "execution_count": 27,
   "id": "6d0f0295-2029-4d48-aab2-ff03f70279d2",
   "metadata": {},
   "outputs": [
    {
     "data": {
      "text/plain": [
       "(array([ 2.,  6.,  9., 20., 21., 63., 31., 25., 15.,  8.]),\n",
       " array([3.8 , 3.91, 4.02, 4.13, 4.24, 4.35, 4.46, 4.57, 4.68, 4.79, 4.9 ]),\n",
       " <BarContainer object of 10 artists>)"
      ]
     },
     "execution_count": 27,
     "metadata": {},
     "output_type": "execute_result"
    },
    {
     "data": {
      "image/png": "[encoded data removed]",
      "text/plain": [
       "<Figure size 640x480 with 1 Axes>"
      ]
     },
     "metadata": {},
     "output_type": "display_data"
    }
   ],
   "source": [
    "plt.hist(means)"
   ]
  },
  {
   "cell_type": "code",
   "execution_count": 28,
   "id": "d3548678-e12e-4b4a-9518-7ac3d16fd00b",
   "metadata": {},
   "outputs": [
    {
     "data": {
      "text/plain": [
       "ShapiroResult(statistic=0.9895867705345154, pvalue=0.15539772808551788)"
      ]
     },
     "execution_count": 28,
     "metadata": {},
     "output_type": "execute_result"
    }
   ],
   "source": [
    "shapiro(means)"
   ]
  },
  {
   "cell_type": "markdown",
   "id": "1e315751-8e02-458a-ab2d-058a85073228",
   "metadata": {},
   "source": [
    "Средние по выборкам распределены нормально в двух случаях"
   ]
  },
  {
   "cell_type": "markdown",
   "id": "682d46b2-fd23-4fa4-9318-cba942106cb7",
   "metadata": {},
   "source": [
    "### Равенство дисперсий"
   ]
  },
  {
   "cell_type": "code",
   "execution_count": 29,
   "id": "9b9cf09f-ac9a-428d-8a77-d976736bc562",
   "metadata": {},
   "outputs": [
    {
     "data": {
      "text/plain": [
       "LeveneResult(statistic=0.002101465854705786, pvalue=0.963497765897437)"
      ]
     },
     "execution_count": 29,
     "metadata": {},
     "output_type": "execute_result"
    }
   ],
   "source": [
    "levene(work_days_greater_35, work_days_less_35)"
   ]
  },
  {
   "cell_type": "code",
   "execution_count": 30,
   "id": "72a6e2c6-dfe1-4928-883a-c68831e1809a",
   "metadata": {},
   "outputs": [
    {
     "data": {
      "text/plain": [
       "TtestResult(statistic=-0.7594348478395395, pvalue=0.4487922957971878, df=149.0)"
      ]
     },
     "execution_count": 30,
     "metadata": {},
     "output_type": "execute_result"
    }
   ],
   "source": [
    "ttest_ind(work_days_greater_35, work_days_less_35, equal_var=True)"
   ]
  },
  {
   "cell_type": "markdown",
   "id": "154d8f9e-c5f8-4c58-8add-08c9a20006ea",
   "metadata": {},
   "source": [
    "pvalue получился больше уровня значимости, значит мы не можем отклонить нулевую гипотезу. Следовательно\n",
    "нельзя сказать, что cотрудники старше 35 пропускают больше дней по больничному (чаще) чем младше"
   ]
  },
  {
   "cell_type": "markdown",
   "id": "f173914f-39d7-4edb-9e1a-ac9fab7eb010",
   "metadata": {},
   "source": [
    "Таким образом, ни одна гипотеза не подтвердилась"
   ]
  }
 ],
 "metadata": {
  "kernelspec": {
   "display_name": "Python 3 (ipykernel)",
   "language": "python",
   "name": "python3"
  },
  "language_info": {
   "codemirror_mode": {
    "name": "ipython",
    "version": 3
   },
   "file_extension": ".py",
   "mimetype": "text/x-python",
   "name": "python",
   "nbconvert_exporter": "python",
   "pygments_lexer": "ipython3",
   "version": "3.11.5"
  }
 },
 "nbformat": 4,
 "nbformat_minor": 5
}
